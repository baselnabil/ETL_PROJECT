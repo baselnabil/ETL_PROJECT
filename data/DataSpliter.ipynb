{
 "cells": [
  {
   "cell_type": "code",
   "execution_count": null,
   "id": "12926ef2-0a4d-40e7-b49a-55393cd057bd",
   "metadata": {},
   "outputs": [],
   "source": [
    "import pandas"
   ]
  },
  {
   "cell_type": "code",
   "execution_count": null,
   "id": "36e68738-3373-4840-8d91-c873e56cf2e0",
   "metadata": {
    "editable": true,
    "slideshow": {
     "slide_type": ""
    },
    "tags": []
   },
   "outputs": [],
   "source": [
    "baseCsv = pandas.read_csv('./raw/crash_data.csv', sep=',', index_col=False, low_memory=False)"
   ]
  },
  {
   "cell_type": "code",
   "execution_count": null,
   "id": "4c34fd8d-fd47-4c25-b468-0c480b6f011a",
   "metadata": {},
   "outputs": [],
   "source": [
    "baseCsv['Report Number'] = baseCsv['Report Number'].astype(str).str.strip()\n",
    "baseCsv = baseCsv.drop_duplicates(subset=['Report Number'], keep='first').reset_index(drop=True)\n"
   ]
  },
  {
   "cell_type": "code",
   "execution_count": null,
   "id": "faaf8081",
   "metadata": {},
   "outputs": [],
   "source": [
    "NullPrecentage = baseCsv.isnull().sum() * 100 / len(baseCsv)\n",
    "NullPrecentage"
   ]
  },
  {
   "cell_type": "markdown",
   "id": "58512cbb",
   "metadata": {},
   "source": [
    "# Removing Colums with more than 60% Null Values\n",
    "## Following the Business Model"
   ]
  },
  {
   "cell_type": "code",
   "execution_count": null,
   "id": "a29392a5",
   "metadata": {},
   "outputs": [],
   "source": [
    "ColumnsToDrop = NullPrecentage[NullPrecentage > 60].index\n",
    "if not ColumnsToDrop.empty:\n",
    " baseCsv = baseCsv.drop(ColumnsToDrop, axis=1)\n",
    "baseCsv.dtypes"
   ]
  },
  {
   "cell_type": "code",
   "execution_count": null,
   "id": "160637de-22a9-4fe2-855a-878dc7a1c647",
   "metadata": {},
   "outputs": [],
   "source": [
    "baseCsv.isnull().sum()"
   ]
  },
  {
   "cell_type": "markdown",
   "id": "cb1fd61c",
   "metadata": {},
   "source": [
    "# Removing `Yes,No,Nulls` into valid Boolean for use\n",
    "## Replacing `Nulls` in the rest with the most frequent value found in that column "
   ]
  },
  {
   "cell_type": "code",
   "execution_count": null,
   "id": "872151dd",
   "metadata": {},
   "outputs": [],
   "source": [
    "baseCsv['Driverless Vehicle'] = baseCsv['Driverless Vehicle'].str.lower()\n",
    "baseCsv['Driverless Vehicle'] = baseCsv['Driverless Vehicle'].replace({\n",
    "    'yes': True,\n",
    "    'no': False,\n",
    "    'unknown': False\n",
    "})\n",
    "\n",
    "baseCsv['Parked Vehicle'] = baseCsv['Parked Vehicle'].str.lower()\n",
    "baseCsv['Parked Vehicle'] = baseCsv['Parked Vehicle'].replace({\n",
    "    'yes': True,\n",
    "    'no': False,\n",
    "    'unknown': False\n",
    "})\n",
    "\n",
    "baseCsv['Driver Substance Abuse'] = baseCsv['Driver Substance Abuse'].str.lower()\n",
    "baseCsv['Driver Substance Abuse'] = baseCsv['Driver Substance Abuse'].replace({\n",
    "    'yes': True,\n",
    "    'no': False,\n",
    "    'unknown': False\n",
    "})\n",
    "\n",
    "baseCsv['Driver At Fault'] = baseCsv['Driver At Fault'].str.lower()\n",
    "baseCsv['Driver At Fault'] = baseCsv['Driver At Fault'].replace({\n",
    "    'yes': True,\n",
    "    'no': False,\n",
    "    'unknown': False\n",
    "}).astype('boolean')\n",
    "\n",
    "baseCsv = baseCsv.apply(\n",
    "    lambda col: col.fillna(\n",
    "        col.loc[\n",
    "            ~col.str.lower().isin(['unknown', 'n/a'])\n",
    "        ].mode()[0] if col.dropna().size > 0 and not col.loc[\n",
    "            ~col.str.lower().isin(['unknown', 'n/a'])\n",
    "        ].mode().empty else col.fillna('N/A')\n",
    "    ) \n",
    "    if col.dtype == 'object' else col.fillna(0), \n",
    "    axis=0\n",
    ")"
   ]
  },
  {
   "cell_type": "code",
   "execution_count": null,
   "id": "c339e6b5",
   "metadata": {},
   "outputs": [],
   "source": [
    "baseCsv.isnull().sum()"
   ]
  },
  {
   "cell_type": "code",
   "execution_count": null,
   "id": "457a5807-f93e-4e53-9c6e-b2bd5d23c616",
   "metadata": {},
   "outputs": [],
   "source": [
    "# Group 1: Report and Case Information\n",
    "df_report_case = baseCsv[['Report Number', 'Local Case Number', 'Agency Name', \"ACRS Report Type\", \"Crash Date/Time\", 'Location']]\n",
    "df_report_case.insert(0, 'ID', range(1, 1 + len(df_report_case)))\n",
    "\n",
    "# Group 2: Road and Location Information \n",
    "df_road_location = baseCsv[['Route Type', 'Road Name', \n",
    "                       'Cross-Street Name', 'Latitude', 'Longitude']]\n",
    "df_road_location.insert(0, 'ID', range(1, 1 + len(df_road_location)))\n",
    "\n",
    "\n",
    "# Group 3: Vehicle Information \n",
    "df_vehicle = baseCsv[['Vehicle ID', 'Vehicle Damage Extent', \n",
    "                 'Vehicle First Impact Location', 'Vehicle Second Impact Location', \n",
    "                 'Vehicle Body Type', 'Vehicle Movement', 'Vehicle Continuing Dir', \n",
    "                 'Vehicle Going Dir', 'Speed Limit', 'Driverless Vehicle', \n",
    "                 'Parked Vehicle', 'Vehicle Year', 'Vehicle Make', 'Vehicle Model', \n",
    "                 'Equipment Problems']]\n",
    "df_vehicle.insert(0, 'ID', range(1, 1 + len(df_vehicle)))\n",
    "\n",
    "# Group 4: Driver and Person Information\n",
    "df_driver_person = baseCsv[['Person ID', 'Driver At Fault', \n",
    "                       'Driver Substance Abuse', 'Driver Distracted By', \n",
    "                       'Drivers License State']]\n",
    "df_driver_person.insert(0, 'ID', range(1, 1 + len(df_driver_person)))\n",
    "\n",
    "\n",
    "# Group 5: Incident Details \n",
    "df_incident_details = baseCsv[['Collision Type', 'Weather', 'Surface Condition', \n",
    "                          'Light', 'Traffic Control', 'Injury Severity']]\n",
    "df_incident_details.insert(0, 'ID', range(1, 1 + len(df_incident_details)))\n"
   ]
  },
  {
   "cell_type": "code",
   "execution_count": null,
   "id": "a56c1d9e-1140-469d-8f13-67d0de09c2f9",
   "metadata": {},
   "outputs": [],
   "source": [
    "df_report_case.to_csv('./loaded/report_case.csv', index=False)\n",
    "df_road_location.to_csv('./loaded/road_location.csv', index=False)\n",
    "df_vehicle.to_csv('./loaded/vehicle.csv', index=False)\n",
    "df_driver_person.to_csv('./loaded/driver_person.txt', sep=',', index=False, header=True)\n",
    "df_incident_details.to_csv('./loaded/incident_details.txt', sep=',', index=False, header=True)"
   ]
  }
 ],
 "metadata": {
  "kernelspec": {
   "display_name": "Python 3 (ipykernel)",
   "language": "python",
   "name": "python3"
  },
  "language_info": {
   "codemirror_mode": {
    "name": "ipython",
    "version": 3
   },
   "file_extension": ".py",
   "mimetype": "text/x-python",
   "name": "python",
   "nbconvert_exporter": "python",
   "pygments_lexer": "ipython3",
   "version": "3.12.2"
  }
 },
 "nbformat": 4,
 "nbformat_minor": 5
}
